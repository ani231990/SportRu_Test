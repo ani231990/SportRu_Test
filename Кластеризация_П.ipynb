{
 "cells": [
  {
   "cell_type": "code",
   "execution_count": 116,
   "metadata": {},
   "outputs": [],
   "source": [
    "#Материалы:\n",
    "#https://www.youtube.com/watch?v=gXBs4_3aKrs&feature=youtu.be\n",
    "#https://habr.com/ru/company/hh/blog/427477/"
   ]
  },
  {
   "cell_type": "code",
   "execution_count": 117,
   "metadata": {},
   "outputs": [],
   "source": [
    "import pandas as pd\n",
    "import numpy as np\n",
    "import matplotlib.pyplot as plt\n",
    "#matplotlib.style.use('qqplot')\n",
    "from datetime import datetime, date\n",
    "%matplotlib inline"
   ]
  },
  {
   "cell_type": "code",
   "execution_count": 118,
   "metadata": {},
   "outputs": [],
   "source": [
    "from scipy.cluster.hierarchy import dendrogram, linkage, fcluster"
   ]
  },
  {
   "cell_type": "code",
   "execution_count": null,
   "metadata": {},
   "outputs": [],
   "source": [
    "#Признаки рассчитываются для пары: П+стаж его работы в SkyEng в месяцах.\n",
    "#Считается, что П работал в месяце A, если у него были успешные уроки в этом месяце.\n",
    "\n",
    "#Рассматриваемые признаки (приведены к нормальному виду в файле):\n",
    "\n",
    "#1. Пол - бинарный признак (1 - женщина)\n",
    "#2. Регион (RU/не RU) - бинарный признак\n",
    "#3.Город (Чтобы значения этого признака можно было сравнивать между собой, каждому региону присвоено общее число П, \n",
    "#входящих в этот регион, и взят от этого числа логарифм, чтобы сгладить разницу между очень крупными и мелкими городами)\n",
    "#3. Возраст (разбит на группы: (18-23;24-29;30+) с присвоением номера (0,1,2). Возраст расситывается на момент рассматриваемого месяца\n",
    "#Категория (A, B, C, Critical --> 0,1,2,3) - данные из KPI\n",
    "#SLA начала 1у (Начинает ли П занятия вовремя в месяце) - доля уроков, для которых П завел комнату вовремя (минимум за 1 мин)\n",
    "#SLA подтверждения У в TT (накопительно) - Вовремя ли П подтверждает У (в течение 12 часов)\n",
    "#Процент переподбора (накопительно) - доля замен учителя\n",
    "\n"
   ]
  },
  {
   "cell_type": "code",
   "execution_count": 136,
   "metadata": {},
   "outputs": [],
   "source": [
    "df = pd.read_excel(r'C:\\Users\\79035\\clustering_of_teachers.xlsx')\n",
    "df = df[df['Есть незаполненные поля'] == 'Нет']"
   ]
  },
  {
   "cell_type": "code",
   "execution_count": 137,
   "metadata": {},
   "outputs": [],
   "source": [
    "df_for_clust = df[['gender_normal','age_normal', 'country_normal', 'city_normal', 'category_normal','sla_начала_1у_normal',\n",
    "                  'Процент переподбора_normal', 'sla_подтверждения_У_normal', 'open_hours_normal', 'praim_time_hours_normal']]\n",
    "\n",
    "#Копирую, иначе ругается при дальнейшей работе с датафрейм\n",
    "df_for_clust = df_for_clust.copy()\n"
   ]
  },
  {
   "cell_type": "code",
   "execution_count": 138,
   "metadata": {},
   "outputs": [
    {
     "data": {
      "text/plain": [
       "gender_normal                   int64\n",
       "age_normal                    float64\n",
       "country_normal                  int64\n",
       "city_normal                   float64\n",
       "category_normal               float64\n",
       "sla_начала_1у_normal          float64\n",
       "Процент переподбора_normal    float64\n",
       "sla_подтверждения_У_normal    float64\n",
       "open_hours_normal             float64\n",
       "praim_time_hours_normal       float64\n",
       "dtype: object"
      ]
     },
     "execution_count": 138,
     "metadata": {},
     "output_type": "execute_result"
    }
   ],
   "source": [
    "df_for_clust = df_for_clust.apply(pd.to_numeric) # приводим к числовому типу данных, так как были текстовые значения\n",
    "df_for_clust.dtypes"
   ]
  },
  {
   "cell_type": "code",
   "execution_count": 139,
   "metadata": {},
   "outputs": [
    {
     "data": {
      "text/html": [
       "<div>\n",
       "<style scoped>\n",
       "    .dataframe tbody tr th:only-of-type {\n",
       "        vertical-align: middle;\n",
       "    }\n",
       "\n",
       "    .dataframe tbody tr th {\n",
       "        vertical-align: top;\n",
       "    }\n",
       "\n",
       "    .dataframe thead th {\n",
       "        text-align: right;\n",
       "    }\n",
       "</style>\n",
       "<table border=\"1\" class=\"dataframe\">\n",
       "  <thead>\n",
       "    <tr style=\"text-align: right;\">\n",
       "      <th></th>\n",
       "      <th>gender_normal</th>\n",
       "      <th>age_normal</th>\n",
       "      <th>country_normal</th>\n",
       "      <th>city_normal</th>\n",
       "      <th>category_normal</th>\n",
       "      <th>sla_начала_1у_normal</th>\n",
       "      <th>Процент переподбора_normal</th>\n",
       "      <th>sla_подтверждения_У_normal</th>\n",
       "      <th>open_hours_normal</th>\n",
       "      <th>praim_time_hours_normal</th>\n",
       "    </tr>\n",
       "  </thead>\n",
       "  <tbody>\n",
       "    <tr>\n",
       "      <th>218</th>\n",
       "      <td>0</td>\n",
       "      <td>-1.0</td>\n",
       "      <td>0</td>\n",
       "      <td>0.0</td>\n",
       "      <td>-0.666667</td>\n",
       "      <td>-0.4222</td>\n",
       "      <td>-0.888889</td>\n",
       "      <td>-0.019231</td>\n",
       "      <td>-0.880503</td>\n",
       "      <td>-0.776471</td>\n",
       "    </tr>\n",
       "    <tr>\n",
       "      <th>219</th>\n",
       "      <td>0</td>\n",
       "      <td>-1.0</td>\n",
       "      <td>0</td>\n",
       "      <td>0.0</td>\n",
       "      <td>-0.666667</td>\n",
       "      <td>-0.5556</td>\n",
       "      <td>-0.888889</td>\n",
       "      <td>-0.019231</td>\n",
       "      <td>-0.899371</td>\n",
       "      <td>-0.811765</td>\n",
       "    </tr>\n",
       "    <tr>\n",
       "      <th>220</th>\n",
       "      <td>0</td>\n",
       "      <td>-1.0</td>\n",
       "      <td>0</td>\n",
       "      <td>0.0</td>\n",
       "      <td>-0.666667</td>\n",
       "      <td>-0.5484</td>\n",
       "      <td>-0.888889</td>\n",
       "      <td>-0.019231</td>\n",
       "      <td>-0.855346</td>\n",
       "      <td>-0.729412</td>\n",
       "    </tr>\n",
       "    <tr>\n",
       "      <th>221</th>\n",
       "      <td>0</td>\n",
       "      <td>-1.0</td>\n",
       "      <td>0</td>\n",
       "      <td>0.0</td>\n",
       "      <td>-0.666667</td>\n",
       "      <td>-0.5455</td>\n",
       "      <td>-0.888889</td>\n",
       "      <td>-0.019231</td>\n",
       "      <td>-0.893082</td>\n",
       "      <td>-0.800000</td>\n",
       "    </tr>\n",
       "    <tr>\n",
       "      <th>222</th>\n",
       "      <td>0</td>\n",
       "      <td>-1.0</td>\n",
       "      <td>0</td>\n",
       "      <td>0.0</td>\n",
       "      <td>-0.666667</td>\n",
       "      <td>-0.5429</td>\n",
       "      <td>-0.888889</td>\n",
       "      <td>-0.019231</td>\n",
       "      <td>-0.893082</td>\n",
       "      <td>-0.800000</td>\n",
       "    </tr>\n",
       "  </tbody>\n",
       "</table>\n",
       "</div>"
      ],
      "text/plain": [
       "     gender_normal  age_normal  country_normal  city_normal  category_normal  \\\n",
       "218              0        -1.0               0          0.0        -0.666667   \n",
       "219              0        -1.0               0          0.0        -0.666667   \n",
       "220              0        -1.0               0          0.0        -0.666667   \n",
       "221              0        -1.0               0          0.0        -0.666667   \n",
       "222              0        -1.0               0          0.0        -0.666667   \n",
       "\n",
       "     sla_начала_1у_normal  Процент переподбора_normal  \\\n",
       "218               -0.4222                   -0.888889   \n",
       "219               -0.5556                   -0.888889   \n",
       "220               -0.5484                   -0.888889   \n",
       "221               -0.5455                   -0.888889   \n",
       "222               -0.5429                   -0.888889   \n",
       "\n",
       "     sla_подтверждения_У_normal  open_hours_normal  praim_time_hours_normal  \n",
       "218                   -0.019231          -0.880503                -0.776471  \n",
       "219                   -0.019231          -0.899371                -0.811765  \n",
       "220                   -0.019231          -0.855346                -0.729412  \n",
       "221                   -0.019231          -0.893082                -0.800000  \n",
       "222                   -0.019231          -0.893082                -0.800000  "
      ]
     },
     "execution_count": 139,
     "metadata": {},
     "output_type": "execute_result"
    }
   ],
   "source": [
    "df_for_clust.head()"
   ]
  },
  {
   "cell_type": "code",
   "execution_count": null,
   "metadata": {},
   "outputs": [],
   "source": [
    "#Применим алгоритм иерархической кластеризации и построим дендрограмму.\n",
    "#Вычисления производятся функцией linkage. Аргументы функции: \n",
    "#таблица данных\n",
    "#метод вычисления расстояний между кластерами(ward, single ,complete, average)\n",
    "#метод вычисления расстояний между объектами (euclidean(default), citiblock (Манхетен), hamming, cosine)"
   ]
  },
  {
   "cell_type": "code",
   "execution_count": 140,
   "metadata": {},
   "outputs": [
    {
     "data": {
      "image/png": "[encoded data removed]",
      "text/plain": [
       "<Figure size 432x288 with 1 Axes>"
      ]
     },
     "metadata": {
      "needs_background": "light"
     },
     "output_type": "display_data"
    }
   ],
   "source": [
    "link = linkage(df_for_clust, 'ward', 'euclidean')\n",
    "dn = dendrogram(link, orientation = \"right\", leaf_font_size = 0)"
   ]
  },
  {
   "cell_type": "code",
   "execution_count": 141,
   "metadata": {},
   "outputs": [],
   "source": [
    "#Добавим к данным колонку cluster.\n",
    "#Для этого используем функцию fcluster.\n",
    "#Аргументы:\n",
    "#linkage\n",
    "#пороговое значение для расстояния между кластерами либо кол-во кластеров в зависимости от criterion\n",
    "#maxclust для разбиения по заданному числу кластеров)"
   ]
  },
  {
   "cell_type": "code",
   "execution_count": 145,
   "metadata": {},
   "outputs": [],
   "source": [
    "df_for_clust['cluster'] = fcluster(link, 3, criterion = 'maxclust')"
   ]
  },
  {
   "cell_type": "code",
   "execution_count": 146,
   "metadata": {},
   "outputs": [
    {
     "data": {
      "text/html": [
       "<div>\n",
       "<style scoped>\n",
       "    .dataframe tbody tr th:only-of-type {\n",
       "        vertical-align: middle;\n",
       "    }\n",
       "\n",
       "    .dataframe tbody tr th {\n",
       "        vertical-align: top;\n",
       "    }\n",
       "\n",
       "    .dataframe thead th {\n",
       "        text-align: right;\n",
       "    }\n",
       "</style>\n",
       "<table border=\"1\" class=\"dataframe\">\n",
       "  <thead>\n",
       "    <tr style=\"text-align: right;\">\n",
       "      <th></th>\n",
       "      <th>gender_normal</th>\n",
       "      <th>age_normal</th>\n",
       "      <th>country_normal</th>\n",
       "      <th>city_normal</th>\n",
       "      <th>category_normal</th>\n",
       "      <th>sla_начала_1у_normal</th>\n",
       "      <th>Процент переподбора_normal</th>\n",
       "      <th>sla_подтверждения_У_normal</th>\n",
       "      <th>open_hours_normal</th>\n",
       "      <th>praim_time_hours_normal</th>\n",
       "      <th>cluster</th>\n",
       "    </tr>\n",
       "  </thead>\n",
       "  <tbody>\n",
       "    <tr>\n",
       "      <th>218</th>\n",
       "      <td>0</td>\n",
       "      <td>-1.0</td>\n",
       "      <td>0</td>\n",
       "      <td>0.0</td>\n",
       "      <td>-0.666667</td>\n",
       "      <td>-0.4222</td>\n",
       "      <td>-0.888889</td>\n",
       "      <td>-0.019231</td>\n",
       "      <td>-0.880503</td>\n",
       "      <td>-0.776471</td>\n",
       "      <td>3</td>\n",
       "    </tr>\n",
       "    <tr>\n",
       "      <th>219</th>\n",
       "      <td>0</td>\n",
       "      <td>-1.0</td>\n",
       "      <td>0</td>\n",
       "      <td>0.0</td>\n",
       "      <td>-0.666667</td>\n",
       "      <td>-0.5556</td>\n",
       "      <td>-0.888889</td>\n",
       "      <td>-0.019231</td>\n",
       "      <td>-0.899371</td>\n",
       "      <td>-0.811765</td>\n",
       "      <td>3</td>\n",
       "    </tr>\n",
       "    <tr>\n",
       "      <th>220</th>\n",
       "      <td>0</td>\n",
       "      <td>-1.0</td>\n",
       "      <td>0</td>\n",
       "      <td>0.0</td>\n",
       "      <td>-0.666667</td>\n",
       "      <td>-0.5484</td>\n",
       "      <td>-0.888889</td>\n",
       "      <td>-0.019231</td>\n",
       "      <td>-0.855346</td>\n",
       "      <td>-0.729412</td>\n",
       "      <td>3</td>\n",
       "    </tr>\n",
       "    <tr>\n",
       "      <th>221</th>\n",
       "      <td>0</td>\n",
       "      <td>-1.0</td>\n",
       "      <td>0</td>\n",
       "      <td>0.0</td>\n",
       "      <td>-0.666667</td>\n",
       "      <td>-0.5455</td>\n",
       "      <td>-0.888889</td>\n",
       "      <td>-0.019231</td>\n",
       "      <td>-0.893082</td>\n",
       "      <td>-0.800000</td>\n",
       "      <td>3</td>\n",
       "    </tr>\n",
       "    <tr>\n",
       "      <th>222</th>\n",
       "      <td>0</td>\n",
       "      <td>-1.0</td>\n",
       "      <td>0</td>\n",
       "      <td>0.0</td>\n",
       "      <td>-0.666667</td>\n",
       "      <td>-0.5429</td>\n",
       "      <td>-0.888889</td>\n",
       "      <td>-0.019231</td>\n",
       "      <td>-0.893082</td>\n",
       "      <td>-0.800000</td>\n",
       "      <td>3</td>\n",
       "    </tr>\n",
       "  </tbody>\n",
       "</table>\n",
       "</div>"
      ],
      "text/plain": [
       "     gender_normal  age_normal  country_normal  city_normal  category_normal  \\\n",
       "218              0        -1.0               0          0.0        -0.666667   \n",
       "219              0        -1.0               0          0.0        -0.666667   \n",
       "220              0        -1.0               0          0.0        -0.666667   \n",
       "221              0        -1.0               0          0.0        -0.666667   \n",
       "222              0        -1.0               0          0.0        -0.666667   \n",
       "\n",
       "     sla_начала_1у_normal  Процент переподбора_normal  \\\n",
       "218               -0.4222                   -0.888889   \n",
       "219               -0.5556                   -0.888889   \n",
       "220               -0.5484                   -0.888889   \n",
       "221               -0.5455                   -0.888889   \n",
       "222               -0.5429                   -0.888889   \n",
       "\n",
       "     sla_подтверждения_У_normal  open_hours_normal  praim_time_hours_normal  \\\n",
       "218                   -0.019231          -0.880503                -0.776471   \n",
       "219                   -0.019231          -0.899371                -0.811765   \n",
       "220                   -0.019231          -0.855346                -0.729412   \n",
       "221                   -0.019231          -0.893082                -0.800000   \n",
       "222                   -0.019231          -0.893082                -0.800000   \n",
       "\n",
       "     cluster  \n",
       "218        3  \n",
       "219        3  \n",
       "220        3  \n",
       "221        3  \n",
       "222        3  "
      ]
     },
     "execution_count": 146,
     "metadata": {},
     "output_type": "execute_result"
    }
   ],
   "source": [
    "df_for_clust.head()"
   ]
  },
  {
   "cell_type": "code",
   "execution_count": 147,
   "metadata": {},
   "outputs": [
    {
     "data": {
      "text/html": [
       "<div>\n",
       "<style scoped>\n",
       "    .dataframe tbody tr th:only-of-type {\n",
       "        vertical-align: middle;\n",
       "    }\n",
       "\n",
       "    .dataframe tbody tr th {\n",
       "        vertical-align: top;\n",
       "    }\n",
       "\n",
       "    .dataframe thead th {\n",
       "        text-align: right;\n",
       "    }\n",
       "</style>\n",
       "<table border=\"1\" class=\"dataframe\">\n",
       "  <thead>\n",
       "    <tr style=\"text-align: right;\">\n",
       "      <th></th>\n",
       "      <th>gender_normal</th>\n",
       "      <th>age_normal</th>\n",
       "      <th>country_normal</th>\n",
       "      <th>city_normal</th>\n",
       "      <th>category_normal</th>\n",
       "      <th>sla_начала_1у_normal</th>\n",
       "      <th>Процент переподбора_normal</th>\n",
       "      <th>sla_подтверждения_У_normal</th>\n",
       "      <th>open_hours_normal</th>\n",
       "      <th>praim_time_hours_normal</th>\n",
       "    </tr>\n",
       "    <tr>\n",
       "      <th>cluster</th>\n",
       "      <th></th>\n",
       "      <th></th>\n",
       "      <th></th>\n",
       "      <th></th>\n",
       "      <th></th>\n",
       "      <th></th>\n",
       "      <th></th>\n",
       "      <th></th>\n",
       "      <th></th>\n",
       "      <th></th>\n",
       "    </tr>\n",
       "  </thead>\n",
       "  <tbody>\n",
       "    <tr>\n",
       "      <th>1</th>\n",
       "      <td>-1.000000</td>\n",
       "      <td>-0.695946</td>\n",
       "      <td>0.0</td>\n",
       "      <td>-0.354208</td>\n",
       "      <td>-0.333333</td>\n",
       "      <td>-0.439981</td>\n",
       "      <td>-0.834410</td>\n",
       "      <td>-0.081763</td>\n",
       "      <td>-0.894357</td>\n",
       "      <td>-0.878007</td>\n",
       "    </tr>\n",
       "    <tr>\n",
       "      <th>2</th>\n",
       "      <td>-0.250000</td>\n",
       "      <td>-0.510417</td>\n",
       "      <td>-1.0</td>\n",
       "      <td>-0.586798</td>\n",
       "      <td>-0.543403</td>\n",
       "      <td>-0.248897</td>\n",
       "      <td>-0.838540</td>\n",
       "      <td>-0.092520</td>\n",
       "      <td>-0.897537</td>\n",
       "      <td>-0.894240</td>\n",
       "    </tr>\n",
       "    <tr>\n",
       "      <th>3</th>\n",
       "      <td>-0.007289</td>\n",
       "      <td>-0.486152</td>\n",
       "      <td>0.0</td>\n",
       "      <td>-0.324961</td>\n",
       "      <td>-0.500486</td>\n",
       "      <td>-0.336912</td>\n",
       "      <td>-0.856832</td>\n",
       "      <td>-0.064867</td>\n",
       "      <td>-0.886774</td>\n",
       "      <td>-0.891494</td>\n",
       "    </tr>\n",
       "  </tbody>\n",
       "</table>\n",
       "</div>"
      ],
      "text/plain": [
       "         gender_normal  age_normal  country_normal  city_normal  \\\n",
       "cluster                                                           \n",
       "1            -1.000000   -0.695946             0.0    -0.354208   \n",
       "2            -0.250000   -0.510417            -1.0    -0.586798   \n",
       "3            -0.007289   -0.486152             0.0    -0.324961   \n",
       "\n",
       "         category_normal  sla_начала_1у_normal  Процент переподбора_normal  \\\n",
       "cluster                                                                      \n",
       "1              -0.333333             -0.439981                   -0.834410   \n",
       "2              -0.543403             -0.248897                   -0.838540   \n",
       "3              -0.500486             -0.336912                   -0.856832   \n",
       "\n",
       "         sla_подтверждения_У_normal  open_hours_normal  \\\n",
       "cluster                                                  \n",
       "1                         -0.081763          -0.894357   \n",
       "2                         -0.092520          -0.897537   \n",
       "3                         -0.064867          -0.886774   \n",
       "\n",
       "         praim_time_hours_normal  \n",
       "cluster                           \n",
       "1                      -0.878007  \n",
       "2                      -0.894240  \n",
       "3                      -0.891494  "
      ]
     },
     "execution_count": 147,
     "metadata": {},
     "output_type": "execute_result"
    }
   ],
   "source": [
    "df_for_clust.groupby('cluster').mean()\n"
   ]
  },
  {
   "cell_type": "code",
   "execution_count": 110,
   "metadata": {},
   "outputs": [
    {
     "data": {
      "text/plain": [
       "cluster\n",
       "1    518\n",
       "2    222\n",
       "3    360\n",
       "dtype: int64"
      ]
     },
     "execution_count": 110,
     "metadata": {},
     "output_type": "execute_result"
    }
   ],
   "source": [
    "df_for_clust.groupby('cluster').size()"
   ]
  },
  {
   "cell_type": "code",
   "execution_count": null,
   "metadata": {},
   "outputs": [],
   "source": []
  }
 ],
 "metadata": {
  "kernelspec": {
   "display_name": "Python 3",
   "language": "python",
   "name": "python3"
  },
  "language_info": {
   "codemirror_mode": {
    "name": "ipython",
    "version": 3
   },
   "file_extension": ".py",
   "mimetype": "text/x-python",
   "name": "python",
   "nbconvert_exporter": "python",
   "pygments_lexer": "ipython3",
   "version": "3.7.3"
  }
 },
 "nbformat": 4,
 "nbformat_minor": 2
}
